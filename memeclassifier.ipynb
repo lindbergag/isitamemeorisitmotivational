{
 "cells": [
  {
   "cell_type": "code",
   "execution_count": 1,
   "id": "95f6b2d6-a6ca-4766-a96d-22f24c8e0bbd",
   "metadata": {
    "execution": {
     "iopub.execute_input": "2022-09-17T22:00:05.606860Z",
     "iopub.status.busy": "2022-09-17T22:00:05.606477Z",
     "iopub.status.idle": "2022-09-17T22:00:07.665551Z",
     "shell.execute_reply": "2022-09-17T22:00:07.664843Z",
     "shell.execute_reply.started": "2022-09-17T22:00:05.606789Z"
    }
   },
   "outputs": [],
   "source": [
    "from fastai.vision.all import *\n",
    "from fastai.vision.widgets import *"
   ]
  },
  {
   "cell_type": "markdown",
   "id": "04f375be-cc60-4113-941d-5ba04a0bc2d2",
   "metadata": {},
   "source": [
    "# The Meme Classifier!\n",
    "\n",
    "Is it a meme? Is it a motivational picture? Are you desperate to find out? Then you've come to the right place. Click 'upload' and select the image in question to classify it. (Important: this only handles memes and motivational quotes.)"
   ]
  },
  {
   "cell_type": "code",
   "execution_count": 2,
   "id": "977e649e-31ce-427c-9ded-602328fc21ac",
   "metadata": {
    "execution": {
     "iopub.execute_input": "2022-09-17T22:00:09.068866Z",
     "iopub.status.busy": "2022-09-17T22:00:09.067819Z",
     "iopub.status.idle": "2022-09-17T22:00:09.344705Z",
     "shell.execute_reply": "2022-09-17T22:00:09.344062Z",
     "shell.execute_reply.started": "2022-09-17T22:00:09.068831Z"
    }
   },
   "outputs": [],
   "source": [
    "path = Path()\n",
    "learn_inf = load_learner(path/'export.pkl', cpu=True)\n",
    "btn_upload = widgets.FileUpload()\n",
    "out_pl = widgets.Output()\n",
    "lbl_pred = widgets.Label()"
   ]
  },
  {
   "cell_type": "code",
   "execution_count": 3,
   "id": "fb70c700-29d4-44d6-ab14-72af052b4717",
   "metadata": {
    "execution": {
     "iopub.execute_input": "2022-09-17T22:00:13.730748Z",
     "iopub.status.busy": "2022-09-17T22:00:13.729991Z",
     "iopub.status.idle": "2022-09-17T22:00:13.735421Z",
     "shell.execute_reply": "2022-09-17T22:00:13.734785Z",
     "shell.execute_reply.started": "2022-09-17T22:00:13.730718Z"
    }
   },
   "outputs": [],
   "source": [
    "def on_data_change(change):\n",
    "    lbl_pred.value = ''\n",
    "    img = PILImage.create(btn_upload.data[-1])\n",
    "    out_pl.clear_output()\n",
    "    with out_pl: display(img.to_thumb(128,128))\n",
    "    pred,pred_idx,probs = learn_inf.predict(img)\n",
    "    lbl_pred.value = f'Prediction: {pred}; Probability: {probs[pred_idx]:.04f}'"
   ]
  },
  {
   "cell_type": "code",
   "execution_count": 4,
   "id": "ea93307a-f36d-463a-80d1-0ad7b790f502",
   "metadata": {
    "execution": {
     "iopub.execute_input": "2022-09-17T22:00:17.604145Z",
     "iopub.status.busy": "2022-09-17T22:00:17.603811Z",
     "iopub.status.idle": "2022-09-17T22:00:17.608454Z",
     "shell.execute_reply": "2022-09-17T22:00:17.607866Z",
     "shell.execute_reply.started": "2022-09-17T22:00:17.604123Z"
    }
   },
   "outputs": [],
   "source": [
    "btn_upload.observe(on_data_change, names=['data'])"
   ]
  },
  {
   "cell_type": "code",
   "execution_count": 6,
   "id": "856063b6-df1d-4eff-a55e-81c8bc625c04",
   "metadata": {
    "execution": {
     "iopub.execute_input": "2022-09-17T22:00:27.326097Z",
     "iopub.status.busy": "2022-09-17T22:00:27.325758Z",
     "iopub.status.idle": "2022-09-17T22:00:27.340900Z",
     "shell.execute_reply": "2022-09-17T22:00:27.340048Z",
     "shell.execute_reply.started": "2022-09-17T22:00:27.326074Z"
    }
   },
   "outputs": [
    {
     "data": {
      "application/vnd.jupyter.widget-view+json": {
       "model_id": "9b1502a6e0b64a29bb6ad2f110f2c7d7",
       "version_major": 2,
       "version_minor": 0
      },
      "text/plain": [
       "VBox(children=(Label(value='Select your image!'), FileUpload(value={}, description='Upload'), Output(), Label(…"
      ]
     },
     "metadata": {},
     "output_type": "display_data"
    }
   ],
   "source": [
    "display(VBox([widgets.Label('Select your image!'), \n",
    "      btn_upload, out_pl, lbl_pred]))"
   ]
  }
 ],
 "metadata": {
  "kernelspec": {
   "display_name": "Python 3 (ipykernel)",
   "language": "python",
   "name": "python3"
  },
  "language_info": {
   "codemirror_mode": {
    "name": "ipython",
    "version": 3
   },
   "file_extension": ".py",
   "mimetype": "text/x-python",
   "name": "python",
   "nbconvert_exporter": "python",
   "pygments_lexer": "ipython3",
   "version": "3.9.13"
  }
 },
 "nbformat": 4,
 "nbformat_minor": 5
}
