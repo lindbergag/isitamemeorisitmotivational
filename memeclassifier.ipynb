{
 "cells": [
  {
   "cell_type": "code",
   "execution_count": 1,
   "id": "95f6b2d6-a6ca-4766-a96d-22f24c8e0bbd",
   "metadata": {
    "execution": {
     "iopub.execute_input": "2022-09-17T21:41:54.852593Z",
     "iopub.status.busy": "2022-09-17T21:41:54.851880Z",
     "iopub.status.idle": "2022-09-17T21:41:57.009933Z",
     "shell.execute_reply": "2022-09-17T21:41:57.009091Z",
     "shell.execute_reply.started": "2022-09-17T21:41:54.852502Z"
    }
   },
   "outputs": [],
   "source": [
    "from fastbook import *\n",
    "from fastai.vision.widgets import *"
   ]
  },
  {
   "cell_type": "markdown",
   "id": "f60e9bbe-fe8a-4615-9b4c-aa2cc4147a75",
   "metadata": {},
   "source": [
    "# Is it a meme or a motivational quote?"
   ]
  },
  {
   "cell_type": "markdown",
   "id": "56d4b29c-fcbb-4f7c-a5db-edc15086699e",
   "metadata": {},
   "source": [
    "Click 'upload' and select the image in question to classify it. (Important: this only works for memes and motivational quotes.)"
   ]
  },
  {
   "cell_type": "code",
   "execution_count": 2,
   "id": "977e649e-31ce-427c-9ded-602328fc21ac",
   "metadata": {
    "execution": {
     "iopub.execute_input": "2022-09-17T21:41:59.906890Z",
     "iopub.status.busy": "2022-09-17T21:41:59.906399Z",
     "iopub.status.idle": "2022-09-17T21:41:59.992028Z",
     "shell.execute_reply": "2022-09-17T21:41:59.991413Z",
     "shell.execute_reply.started": "2022-09-17T21:41:59.906862Z"
    }
   },
   "outputs": [],
   "source": [
    "path = Path()\n",
    "learn_inf = load_learner(path/'export.pkl', cpu=True)\n",
    "btn_upload = widgets.FileUpload()\n",
    "out_pl = widgets.Output()\n",
    "lbl_pred = widgets.Label()"
   ]
  },
  {
   "cell_type": "code",
   "execution_count": 3,
   "id": "fb70c700-29d4-44d6-ab14-72af052b4717",
   "metadata": {
    "execution": {
     "iopub.execute_input": "2022-09-17T21:42:01.530666Z",
     "iopub.status.busy": "2022-09-17T21:42:01.530012Z",
     "iopub.status.idle": "2022-09-17T21:42:01.535016Z",
     "shell.execute_reply": "2022-09-17T21:42:01.534375Z",
     "shell.execute_reply.started": "2022-09-17T21:42:01.530639Z"
    }
   },
   "outputs": [],
   "source": [
    "def on_data_change(change):\n",
    "    lbl_pred.value = ''\n",
    "    img = PILImage.create(btn_upload.data[-1])\n",
    "    out_pl.clear_output()\n",
    "    with out_pl: display(img.to_thumb(128,128))\n",
    "    pred,pred_idx,probs = learn_inf.predict(img)\n",
    "    lbl_pred.value = f'Prediction: {pred}; Probability: {probs[pred_idx]:.04f}'"
   ]
  },
  {
   "cell_type": "code",
   "execution_count": 4,
   "id": "ea93307a-f36d-463a-80d1-0ad7b790f502",
   "metadata": {
    "execution": {
     "iopub.execute_input": "2022-09-17T21:42:02.545626Z",
     "iopub.status.busy": "2022-09-17T21:42:02.544965Z",
     "iopub.status.idle": "2022-09-17T21:42:02.549135Z",
     "shell.execute_reply": "2022-09-17T21:42:02.548447Z",
     "shell.execute_reply.started": "2022-09-17T21:42:02.545600Z"
    }
   },
   "outputs": [],
   "source": [
    "btn_upload.observe(on_data_change, names=['data'])"
   ]
  },
  {
   "cell_type": "code",
   "execution_count": 5,
   "id": "856063b6-df1d-4eff-a55e-81c8bc625c04",
   "metadata": {
    "execution": {
     "iopub.execute_input": "2022-09-17T21:42:03.806465Z",
     "iopub.status.busy": "2022-09-17T21:42:03.805826Z",
     "iopub.status.idle": "2022-09-17T21:42:03.820094Z",
     "shell.execute_reply": "2022-09-17T21:42:03.819413Z",
     "shell.execute_reply.started": "2022-09-17T21:42:03.806440Z"
    }
   },
   "outputs": [
    {
     "data": {
      "application/vnd.jupyter.widget-view+json": {
       "model_id": "c485445fd5ea4f538e428cf3dd057c74",
       "version_major": 2,
       "version_minor": 0
      },
      "text/plain": [
       "VBox(children=(Label(value='Select your image!'), FileUpload(value={}, description='Upload'), Output(), Label(…"
      ]
     },
     "metadata": {},
     "output_type": "display_data"
    }
   ],
   "source": [
    "display(VBox([widgets.Label('Select your image!'), \n",
    "      btn_upload, out_pl, lbl_pred]))"
   ]
  }
 ],
 "metadata": {
  "kernelspec": {
   "display_name": "Python 3 (ipykernel)",
   "language": "python",
   "name": "python3"
  },
  "language_info": {
   "codemirror_mode": {
    "name": "ipython",
    "version": 3
   },
   "file_extension": ".py",
   "mimetype": "text/x-python",
   "name": "python",
   "nbconvert_exporter": "python",
   "pygments_lexer": "ipython3",
   "version": "3.9.13"
  }
 },
 "nbformat": 4,
 "nbformat_minor": 5
}
