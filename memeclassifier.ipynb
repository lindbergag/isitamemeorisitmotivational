{
 "cells": [
  {
   "cell_type": "code",
   "execution_count": 1,
   "id": "95f6b2d6-a6ca-4766-a96d-22f24c8e0bbd",
   "metadata": {
    "execution": {
     "iopub.execute_input": "2022-09-17T21:32:28.396777Z",
     "iopub.status.busy": "2022-09-17T21:32:28.396260Z",
     "iopub.status.idle": "2022-09-17T21:32:33.780682Z",
     "shell.execute_reply": "2022-09-17T21:32:33.779368Z",
     "shell.execute_reply.started": "2022-09-17T21:32:28.396698Z"
    }
   },
   "outputs": [],
   "source": [
    "from fastbook import *\n",
    "from fastai.vision.widgets import *"
   ]
  },
  {
   "cell_type": "code",
   "execution_count": 2,
   "id": "977e649e-31ce-427c-9ded-602328fc21ac",
   "metadata": {
    "execution": {
     "iopub.execute_input": "2022-09-17T21:32:33.782655Z",
     "iopub.status.busy": "2022-09-17T21:32:33.782265Z",
     "iopub.status.idle": "2022-09-17T21:32:34.024447Z",
     "shell.execute_reply": "2022-09-17T21:32:34.023744Z",
     "shell.execute_reply.started": "2022-09-17T21:32:33.782632Z"
    }
   },
   "outputs": [],
   "source": [
    "path = Path()\n",
    "learn_inf = load_learner(path/'export.pkl', cpu=True)\n",
    "btn_upload = widgets.FileUpload()\n",
    "out_pl = widgets.Output()\n",
    "lbl_pred = widgets.Label()"
   ]
  },
  {
   "cell_type": "code",
   "execution_count": 3,
   "id": "fb70c700-29d4-44d6-ab14-72af052b4717",
   "metadata": {
    "execution": {
     "iopub.execute_input": "2022-09-17T21:32:34.026228Z",
     "iopub.status.busy": "2022-09-17T21:32:34.025620Z",
     "iopub.status.idle": "2022-09-17T21:32:34.533214Z",
     "shell.execute_reply": "2022-09-17T21:32:34.531612Z",
     "shell.execute_reply.started": "2022-09-17T21:32:34.026206Z"
    }
   },
   "outputs": [
    {
     "ename": "NameError",
     "evalue": "name 'btn_run' is not defined",
     "output_type": "error",
     "traceback": [
      "\u001b[0;31m---------------------------------------------------------------------------\u001b[0m",
      "\u001b[0;31mNameError\u001b[0m                                 Traceback (most recent call last)",
      "Input \u001b[0;32mIn [3]\u001b[0m, in \u001b[0;36m<cell line: 8>\u001b[0;34m()\u001b[0m\n\u001b[1;32m      5\u001b[0m     pred,pred_idx,probs \u001b[38;5;241m=\u001b[39m learn_inf\u001b[38;5;241m.\u001b[39mpredict(img)\n\u001b[1;32m      6\u001b[0m     lbl_pred\u001b[38;5;241m.\u001b[39mvalue \u001b[38;5;241m=\u001b[39m \u001b[38;5;124mf\u001b[39m\u001b[38;5;124m'\u001b[39m\u001b[38;5;124mPrediction: \u001b[39m\u001b[38;5;132;01m{\u001b[39;00mpred\u001b[38;5;132;01m}\u001b[39;00m\u001b[38;5;124m; Probability: \u001b[39m\u001b[38;5;132;01m{\u001b[39;00mprobs[pred_idx]\u001b[38;5;132;01m:\u001b[39;00m\u001b[38;5;124m.04f\u001b[39m\u001b[38;5;132;01m}\u001b[39;00m\u001b[38;5;124m'\u001b[39m\n\u001b[0;32m----> 8\u001b[0m \u001b[43mbtn_run\u001b[49m\u001b[38;5;241m.\u001b[39mon_click(on_click_classify)\n",
      "\u001b[0;31mNameError\u001b[0m: name 'btn_run' is not defined"
     ]
    }
   ],
   "source": [
    "def on_data_change(change):\n",
    "    lbl_pred.value = ''\n",
    "    img = PILImage.create(btn_upload.data[-1])\n",
    "    out_pl.clear_output()\n",
    "    with out_pl: display(img.to_thumb(128,128))\n",
    "    pred,pred_idx,probs = learn_inf.predict(img)\n",
    "    lbl_pred.value = f'Prediction: {pred}; Probability: {probs[pred_idx]:.04f}'"
   ]
  },
  {
   "cell_type": "code",
   "execution_count": null,
   "id": "ea93307a-f36d-463a-80d1-0ad7b790f502",
   "metadata": {
    "execution": {
     "iopub.status.busy": "2022-09-17T21:32:34.534433Z",
     "iopub.status.idle": "2022-09-17T21:32:34.534736Z",
     "shell.execute_reply": "2022-09-17T21:32:34.534604Z",
     "shell.execute_reply.started": "2022-09-17T21:32:34.534591Z"
    }
   },
   "outputs": [],
   "source": [
    "btn_upload.observe(on_data_change, names=['data'])"
   ]
  },
  {
   "cell_type": "code",
   "execution_count": null,
   "id": "856063b6-df1d-4eff-a55e-81c8bc625c04",
   "metadata": {
    "execution": {
     "iopub.status.busy": "2022-09-17T21:32:34.537829Z",
     "iopub.status.idle": "2022-09-17T21:32:34.538114Z",
     "shell.execute_reply": "2022-09-17T21:32:34.537993Z",
     "shell.execute_reply.started": "2022-09-17T21:32:34.537980Z"
    }
   },
   "outputs": [],
   "source": [
    "display(VBox([widgets.Label('Select your image!'), \n",
    "      btn_upload, btn_run, out_pl, lbl_pred]))"
   ]
  }
 ],
 "metadata": {
  "kernelspec": {
   "display_name": "Python 3 (ipykernel)",
   "language": "python",
   "name": "python3"
  },
  "language_info": {
   "codemirror_mode": {
    "name": "ipython",
    "version": 3
   },
   "file_extension": ".py",
   "mimetype": "text/x-python",
   "name": "python",
   "nbconvert_exporter": "python",
   "pygments_lexer": "ipython3",
   "version": "3.9.13"
  }
 },
 "nbformat": 4,
 "nbformat_minor": 5
}
